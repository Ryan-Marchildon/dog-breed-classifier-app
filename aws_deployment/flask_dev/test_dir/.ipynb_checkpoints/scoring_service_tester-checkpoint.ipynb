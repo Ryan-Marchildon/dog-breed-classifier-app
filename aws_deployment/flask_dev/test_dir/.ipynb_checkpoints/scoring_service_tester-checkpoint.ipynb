{
 "cells": [
  {
   "cell_type": "code",
   "execution_count": 1,
   "metadata": {},
   "outputs": [],
   "source": [
    "import os\n",
    "import json\n",
    "import sys\n",
    "import signal\n",
    "import traceback\n",
    "\n",
    "# difference between python 2 and 3... \n",
    "try:\n",
    "    from StringIO import StringIO\n",
    "except ImportError:\n",
    "    from io import StringIO\n",
    "\n",
    "# additional libraries\n",
    "import pandas as pd\n",
    "import tensorflow as tf\n",
    "import flask\n",
    "\n",
    "\n",
    "from sklearn import preprocessing\n",
    "import numpy as np\n"
   ]
  },
  {
   "cell_type": "code",
   "execution_count": 2,
   "metadata": {},
   "outputs": [],
   "source": [
    "# PATHS AND GLOBAL VARIABLES\n",
    "prefix = os.getcwd()\n",
    "MODEL_PATH = os.path.join(prefix, 'model')\n",
    "\n",
    "CURRENT_MODEL_NAME = 'dbc_stanford_10_23'\n",
    "FROZEN_MODELS_DIR = MODEL_PATH\n",
    "INCEPTION_INPUT_TENSOR = 'DecodeJpeg/contents:0'\n",
    "OUTPUT_TENSOR_NAME = 'output_node' + ':0'\n",
    "\n",
    "BREEDS = os.path.join(MODEL_PATH, 'breeds.csv')\n",
    "CLASSES_COUNT = 120"
   ]
  },
  {
   "cell_type": "code",
   "execution_count": 3,
   "metadata": {},
   "outputs": [],
   "source": [
    "# HELPER FUNCTIONS\n",
    "\n",
    "def unfreeze_into_current_graph(model_path, tensor_names):\n",
    "    with tf.gfile.FastGFile(name=model_path, mode='rb') as f:\n",
    "        graph_def = tf.GraphDef()\n",
    "        graph_def.ParseFromString(f.read())\n",
    "        tf.import_graph_def(graph_def, name='')\n",
    "        g = tf.get_default_graph()\n",
    "\n",
    "        tensors = {t: g.get_tensor_by_name(t) for t in tensor_names}\n",
    "\n",
    "        return tensors\n",
    "\n",
    "def one_hot_label_encoder():\n",
    "    train_Y_orig = pd.read_csv(BREEDS, dtype={'breed': np.str})\n",
    "    lb = preprocessing.LabelBinarizer()\n",
    "    lb.fit(train_Y_orig['breed'])\n",
    "\n",
    "    def encode(labels):\n",
    "        return np.asarray(lb.transform(labels), dtype=np.float32)\n",
    "\n",
    "    def decode(one_hots):\n",
    "        return np.asarray(lb.inverse_transform(one_hots), dtype=np.str)\n",
    "\n",
    "    return encode, decode\n"
   ]
  },
  {
   "cell_type": "code",
   "execution_count": 4,
   "metadata": {},
   "outputs": [],
   "source": [
    "# SCORING SERVICE \n",
    "\n",
    "class ScoringService(object):\n",
    "    tensors = None\n",
    "    sess = None\n",
    "    \n",
    "    @classmethod\n",
    "    def get_model(cls):\n",
    "        \n",
    "        # load model and new TF session, if not already loaded\n",
    "        if cls.tensors == None or cls.sess == None:\n",
    "            with tf.Graph().as_default(), tf.Session().as_default() as sess:\n",
    "\n",
    "                cls.tensors = unfreeze_into_current_graph(\n",
    "                    os.path.join(FROZEN_MODELS_DIR, CURRENT_MODEL_NAME + '.pb'),\n",
    "                    tensor_names=[INCEPTION_INPUT_TENSOR, OUTPUT_TENSOR_NAME])\n",
    "\n",
    "                cls.sess = sess\n",
    "\n",
    "        return cls\n",
    "        \n",
    "    @classmethod\n",
    "    def predict(cls, img_raw):\n",
    "    \n",
    "        clf = cls.get_model()\n",
    "    \n",
    "        _, one_hot_decoder = one_hot_label_encoder()\n",
    "\n",
    "        probs = clf.sess.run(clf.tensors[OUTPUT_TENSOR_NAME],\n",
    "                         feed_dict={clf.tensors[INCEPTION_INPUT_TENSOR]: img_raw})\n",
    "\n",
    "        breeds = one_hot_decoder(np.identity(CLASSES_COUNT)).reshape(-1)\n",
    "\n",
    "        df = pd.DataFrame(data={'prob': probs.reshape(-1), 'breed': breeds})\n",
    "\n",
    "        return df.sort_values(['prob'], ascending=False)"
   ]
  },
  {
   "cell_type": "code",
   "execution_count": 5,
   "metadata": {},
   "outputs": [],
   "source": [
    "# CLASSIFY FUNCTION\n",
    "\n",
    "def classify_with_Service(img_path):\n",
    "\n",
    "    with open(img_path, 'rb') as f:\n",
    "        img_raw = f.read()\n",
    "        \n",
    "    probs = ScoringService.predict(img_raw)\n",
    "    \n",
    "    print(probs.sort_values(['prob'], ascending=False).take(range(5)))\n",
    "\n",
    "    return #probs\n"
   ]
  },
  {
   "cell_type": "code",
   "execution_count": 6,
   "metadata": {},
   "outputs": [
    {
     "name": "stdout",
     "output_type": "stream",
     "text": [
      "\n",
      "Poodle:\n",
      "                   breed      prob\n",
      "105      standard_poodle  0.997242\n",
      "76      miniature_poodle  0.002341\n",
      "110           toy_poodle  0.000186\n",
      "58   irish_water_spaniel  0.000072\n",
      "109      tibetan_terrier  0.000013\n",
      "\n",
      "Yorkie 1:\n",
      "                  breed      prob\n",
      "119   yorkshire_terrier  0.905776\n",
      "6    australian_terrier  0.048865\n",
      "102       silky_terrier  0.033349\n",
      "35       dandie_dinmont  0.004766\n",
      "111         toy_terrier  0.001896\n",
      "\n",
      "Yorkie 2:\n",
      "                  breed      prob\n",
      "119   yorkshire_terrier  0.986012\n",
      "6    australian_terrier  0.005756\n",
      "35       dandie_dinmont  0.001850\n",
      "111         toy_terrier  0.001829\n",
      "102       silky_terrier  0.001189\n"
     ]
    }
   ],
   "source": [
    "# TESTING\n",
    "\n",
    "print('\\nPoodle:')\n",
    "classify_with_Service(os.path.join(MODEL_PATH, 'poodle_1.jpg'))\n",
    "\n",
    "print('\\nYorkie 1:')\n",
    "classify_with_Service(os.path.join(MODEL_PATH, 'mochi_1.jpg'))\n",
    "\n",
    "print('\\nYorkie 2:')\n",
    "classify_with_Service(os.path.join(MODEL_PATH, 'mochi_2.jpg'))"
   ]
  }
 ],
 "metadata": {
  "kernelspec": {
   "display_name": "Python 3",
   "language": "python",
   "name": "python3"
  },
  "language_info": {
   "codemirror_mode": {
    "name": "ipython",
    "version": 3
   },
   "file_extension": ".py",
   "mimetype": "text/x-python",
   "name": "python",
   "nbconvert_exporter": "python",
   "pygments_lexer": "ipython3",
   "version": "3.6.4"
  }
 },
 "nbformat": 4,
 "nbformat_minor": 2
}
